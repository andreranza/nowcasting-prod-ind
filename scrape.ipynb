{
 "nbformat": 4,
 "nbformat_minor": 2,
 "metadata": {
  "language_info": {
   "name": "python",
   "codemirror_mode": {
    "name": "ipython",
    "version": 3
   },
   "version": "3.6.10-final"
  },
  "orig_nbformat": 2,
  "file_extension": ".py",
  "mimetype": "text/x-python",
  "name": "python",
  "npconvert_exporter": "python",
  "pygments_lexer": "ipython3",
  "version": 3,
  "kernelspec": {
   "name": "python361064bitspotifyconda159a798d7347496e89fb791e4e762a47",
   "display_name": "Python 3.6.10 64-bit ('spotify': conda)"
  }
 },
 "cells": [
  {
   "cell_type": "code",
   "execution_count": 5,
   "metadata": {},
   "outputs": [],
   "source": [
    "import pandas as pd\n",
    "import tabula\n",
    "import textract\n",
    "from os import listdir\n",
    "from os.path import isfile, join\n",
    "from tqdm import tqdm\n",
    "\n",
    "files = [f for f in listdir('pdf_aprile') if isfile(join('pdf_aprile', f))]\n",
    "dfs = []"
   ]
  },
  {
   "cell_type": "code",
   "execution_count": 6,
   "metadata": {},
   "outputs": [
    {
     "output_type": "stream",
     "name": "stderr",
     "text": "100%|██████████| 6/6 [00:04<00:00,  1.30it/s]\n"
    }
   ],
   "source": [
    "for i in tqdm(range(len(files))):\n",
    "    file = files[i]\n",
    "    if file != \".DS_Store\":\n",
    "        text = textract.process(\"pdf_aprile/\" + file)\n",
    "        if str(text[0:20]) == \"b'Report Storico Previ'\":\n",
    "            df = tabula.read_pdf(\"pdf_aprile/\" + file, pages=1)\n",
    "            df = df[0]\n",
    "            df['DATA'] = str(text).split(\"Giorno di previsione : \")[1].split(\" ITALIA\")[0]\n",
    "            dfs.append(df)\n",
    "df = pd.concat(dfs)"
   ]
  },
  {
   "cell_type": "code",
   "execution_count": 7,
   "metadata": {},
   "outputs": [
    {
     "output_type": "execute_result",
     "data": {
      "text/plain": "        ORA CONSUNTIVO PREVISIONE        DATA\n0     01:00     23,647     23,727  16/04/2020\n1     02:00     22,208     22,139  16/04/2020\n2     03:00     21,576     21,299  16/04/2020\n3     04:00     21,372     21,143  16/04/2020\n4     05:00     21,484     21,290  16/04/2020\n..      ...        ...        ...         ...\n20    21:00     34,078     34,264  17/04/2020\n21    22:00     31,886     32,045  17/04/2020\n22    23:00     28,978     29,029  17/04/2020\n23    24:00     26,180     26,212  17/04/2020\n24  Totale:    683,786    676,213  17/04/2020\n\n[125 rows x 4 columns]",
      "text/html": "<div>\n<style scoped>\n    .dataframe tbody tr th:only-of-type {\n        vertical-align: middle;\n    }\n\n    .dataframe tbody tr th {\n        vertical-align: top;\n    }\n\n    .dataframe thead th {\n        text-align: right;\n    }\n</style>\n<table border=\"1\" class=\"dataframe\">\n  <thead>\n    <tr style=\"text-align: right;\">\n      <th></th>\n      <th>ORA</th>\n      <th>CONSUNTIVO</th>\n      <th>PREVISIONE</th>\n      <th>DATA</th>\n    </tr>\n  </thead>\n  <tbody>\n    <tr>\n      <th>0</th>\n      <td>01:00</td>\n      <td>23,647</td>\n      <td>23,727</td>\n      <td>16/04/2020</td>\n    </tr>\n    <tr>\n      <th>1</th>\n      <td>02:00</td>\n      <td>22,208</td>\n      <td>22,139</td>\n      <td>16/04/2020</td>\n    </tr>\n    <tr>\n      <th>2</th>\n      <td>03:00</td>\n      <td>21,576</td>\n      <td>21,299</td>\n      <td>16/04/2020</td>\n    </tr>\n    <tr>\n      <th>3</th>\n      <td>04:00</td>\n      <td>21,372</td>\n      <td>21,143</td>\n      <td>16/04/2020</td>\n    </tr>\n    <tr>\n      <th>4</th>\n      <td>05:00</td>\n      <td>21,484</td>\n      <td>21,290</td>\n      <td>16/04/2020</td>\n    </tr>\n    <tr>\n      <th>...</th>\n      <td>...</td>\n      <td>...</td>\n      <td>...</td>\n      <td>...</td>\n    </tr>\n    <tr>\n      <th>20</th>\n      <td>21:00</td>\n      <td>34,078</td>\n      <td>34,264</td>\n      <td>17/04/2020</td>\n    </tr>\n    <tr>\n      <th>21</th>\n      <td>22:00</td>\n      <td>31,886</td>\n      <td>32,045</td>\n      <td>17/04/2020</td>\n    </tr>\n    <tr>\n      <th>22</th>\n      <td>23:00</td>\n      <td>28,978</td>\n      <td>29,029</td>\n      <td>17/04/2020</td>\n    </tr>\n    <tr>\n      <th>23</th>\n      <td>24:00</td>\n      <td>26,180</td>\n      <td>26,212</td>\n      <td>17/04/2020</td>\n    </tr>\n    <tr>\n      <th>24</th>\n      <td>Totale:</td>\n      <td>683,786</td>\n      <td>676,213</td>\n      <td>17/04/2020</td>\n    </tr>\n  </tbody>\n</table>\n<p>125 rows × 4 columns</p>\n</div>"
     },
     "metadata": {},
     "execution_count": 7
    }
   ],
   "source": [
    "df"
   ]
  },
  {
   "cell_type": "code",
   "execution_count": 8,
   "metadata": {},
   "outputs": [],
   "source": [
    "df.to_csv(\"export_aprile.csv\")"
   ]
  },
  {
   "cell_type": "code",
   "execution_count": null,
   "metadata": {},
   "outputs": [],
   "source": []
  },
  {
   "cell_type": "code",
   "execution_count": null,
   "metadata": {},
   "outputs": [],
   "source": []
  }
 ]
}