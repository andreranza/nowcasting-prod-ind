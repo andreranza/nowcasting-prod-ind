{
 "cells": [
  {
   "cell_type": "code",
   "execution_count": 2,
   "metadata": {},
   "outputs": [],
   "source": [
    "import pandas as pd\n",
    "import tabula\n",
    "import textract\n",
    "from os import listdir\n",
    "from os.path import isfile, join\n",
    "from tqdm import tqdm\n",
    "\n",
    "files = [f for f in listdir('pdf_aprile') if isfile(join('pdf_aprile', f))]\n",
    "dfs = []"
   ]
  },
  {
   "cell_type": "code",
   "execution_count": 3,
   "metadata": {},
   "outputs": [
    {
     "output_type": "stream",
     "name": "stderr",
     "text": "100%|██████████| 13/13 [00:11<00:00,  1.18it/s]\n"
    }
   ],
   "source": [
    "for i in tqdm(range(len(files))):\n",
    "    file = files[i]\n",
    "    if file != \".DS_Store\":\n",
    "        text = textract.process(\"pdf_aprile/\" + file)\n",
    "        if str(text[0:20]) == \"b'Report Storico Previ'\":\n",
    "            df = tabula.read_pdf(\"pdf_aprile/\" + file, pages=1)\n",
    "            df = df[0]\n",
    "            df['DATA'] = str(text).split(\"Giorno di previsione : \")[1].split(\" ITALIA\")[0]\n",
    "            dfs.append(df)\n",
    "df = pd.concat(dfs)"
   ]
  },
  {
   "cell_type": "code",
   "execution_count": 4,
   "metadata": {},
   "outputs": [
    {
     "output_type": "execute_result",
     "data": {
      "text/plain": "        ORA CONSUNTIVO PREVISIONE        DATA\n0     01:00     21,554     22,054  26/04/2020\n1     02:00     19,857     20,224  26/04/2020\n2     03:00     19,100     19,428  26/04/2020\n3     04:00     18,662     19,057  26/04/2020\n4     05:00     18,829     19,056  26/04/2020\n..      ...        ...        ...         ...\n20    21:00     35,636     35,712  22/04/2020\n21    22:00     33,868     34,008  22/04/2020\n22    23:00     30,384     30,721  22/04/2020\n23    24:00     27,468     27,865  22/04/2020\n24  Totale:    732,405    745,560  22/04/2020\n\n[300 rows x 4 columns]",
      "text/html": "<div>\n<style scoped>\n    .dataframe tbody tr th:only-of-type {\n        vertical-align: middle;\n    }\n\n    .dataframe tbody tr th {\n        vertical-align: top;\n    }\n\n    .dataframe thead th {\n        text-align: right;\n    }\n</style>\n<table border=\"1\" class=\"dataframe\">\n  <thead>\n    <tr style=\"text-align: right;\">\n      <th></th>\n      <th>ORA</th>\n      <th>CONSUNTIVO</th>\n      <th>PREVISIONE</th>\n      <th>DATA</th>\n    </tr>\n  </thead>\n  <tbody>\n    <tr>\n      <th>0</th>\n      <td>01:00</td>\n      <td>21,554</td>\n      <td>22,054</td>\n      <td>26/04/2020</td>\n    </tr>\n    <tr>\n      <th>1</th>\n      <td>02:00</td>\n      <td>19,857</td>\n      <td>20,224</td>\n      <td>26/04/2020</td>\n    </tr>\n    <tr>\n      <th>2</th>\n      <td>03:00</td>\n      <td>19,100</td>\n      <td>19,428</td>\n      <td>26/04/2020</td>\n    </tr>\n    <tr>\n      <th>3</th>\n      <td>04:00</td>\n      <td>18,662</td>\n      <td>19,057</td>\n      <td>26/04/2020</td>\n    </tr>\n    <tr>\n      <th>4</th>\n      <td>05:00</td>\n      <td>18,829</td>\n      <td>19,056</td>\n      <td>26/04/2020</td>\n    </tr>\n    <tr>\n      <th>...</th>\n      <td>...</td>\n      <td>...</td>\n      <td>...</td>\n      <td>...</td>\n    </tr>\n    <tr>\n      <th>20</th>\n      <td>21:00</td>\n      <td>35,636</td>\n      <td>35,712</td>\n      <td>22/04/2020</td>\n    </tr>\n    <tr>\n      <th>21</th>\n      <td>22:00</td>\n      <td>33,868</td>\n      <td>34,008</td>\n      <td>22/04/2020</td>\n    </tr>\n    <tr>\n      <th>22</th>\n      <td>23:00</td>\n      <td>30,384</td>\n      <td>30,721</td>\n      <td>22/04/2020</td>\n    </tr>\n    <tr>\n      <th>23</th>\n      <td>24:00</td>\n      <td>27,468</td>\n      <td>27,865</td>\n      <td>22/04/2020</td>\n    </tr>\n    <tr>\n      <th>24</th>\n      <td>Totale:</td>\n      <td>732,405</td>\n      <td>745,560</td>\n      <td>22/04/2020</td>\n    </tr>\n  </tbody>\n</table>\n<p>300 rows × 4 columns</p>\n</div>"
     },
     "metadata": {},
     "execution_count": 4
    }
   ],
   "source": [
    "df"
   ]
  },
  {
   "cell_type": "code",
   "execution_count": 5,
   "metadata": {},
   "outputs": [],
   "source": [
    "df.to_csv(\"export_aprile.csv\")"
   ]
  },
  {
   "cell_type": "code",
   "execution_count": null,
   "metadata": {},
   "outputs": [],
   "source": []
  }
 ],
 "metadata": {
  "language_info": {
   "name": "python",
   "codemirror_mode": {
    "name": "ipython",
    "version": 3
   },
   "version": "3.6.10-final"
  },
  "orig_nbformat": 2,
  "file_extension": ".py",
  "mimetype": "text/x-python",
  "name": "python",
  "npconvert_exporter": "python",
  "pygments_lexer": "ipython3",
  "version": 3,
  "kernelspec": {
   "name": "python361064bitspotifyconda159a798d7347496e89fb791e4e762a47",
   "display_name": "Python 3.6.10 64-bit ('spotify': conda)"
  }
 },
 "nbformat": 4,
 "nbformat_minor": 2
}